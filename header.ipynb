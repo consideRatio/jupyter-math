{
 "cells": [
  {
   "cell_type": "markdown",
   "metadata": {},
   "source": [
    "## Kodlabbsinstruktioner\n",
    "\n",
    "#### För att komma igång\n",
    "\n",
    "* Välj \"Clone\", logga in och klicka \"Clone\" igen utan.\n",
    "* Hitta tillbaka till just denna kodlabb.\n",
    "\n",
    "#### För att visa din lärare\n",
    "\n",
    "Innan du ger din lärare en länk till en \"Preview\" av denna anteckningsbok, gör detta först.\n",
    "1. Fyll i ditt namn och de du arbetat med under `NAME` och `COLLABORATORS` nedan.\n",
    "2. Kontrollera att du ersatt **`YOUR CODE HERE`** och **`YOUR ANSWER HERE`** med något klokt.\n",
    "3. Klicka på  (i menyraden, välj Kernel$\\rightarrow$Restart & Run All)\n",
    "4. Kontrollera att det fungerade och ser bra ut."
   ]
  },
  {
   "cell_type": "code",
   "execution_count": null,
   "metadata": {
    "collapsed": true
   },
   "outputs": [],
   "source": [
    "NAME = \"\"\n",
    "COLLABORATORS = \"\""
   ]
  },
  {
   "cell_type": "markdown",
   "metadata": {},
   "source": [
    "---"
   ]
  }
 ],
 "metadata": {
  "kernelspec": {
   "display_name": "Python 3",
   "language": "python",
   "name": "python3"
  },
  "language_info": {
   "codemirror_mode": {
    "name": "ipython",
    "version": 3
   },
   "file_extension": ".py",
   "mimetype": "text/x-python",
   "name": "python",
   "nbconvert_exporter": "python",
   "pygments_lexer": "ipython3",
   "version": "3.6.1"
  }
 },
 "nbformat": 4,
 "nbformat_minor": 1
}
